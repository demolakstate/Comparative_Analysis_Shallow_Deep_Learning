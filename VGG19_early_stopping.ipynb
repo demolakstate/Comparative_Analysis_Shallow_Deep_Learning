{
  "nbformat": 4,
  "nbformat_minor": 0,
  "metadata": {
    "colab": {
      "name": "VGG19_early_stopping.ipynb",
      "provenance": [],
      "authorship_tag": "ABX9TyPXpuW+zcq3+SddRP4hoYsJ",
      "include_colab_link": true
    },
    "kernelspec": {
      "name": "python3",
      "display_name": "Python 3"
    },
    "accelerator": "GPU"
  },
  "cells": [
    {
      "cell_type": "markdown",
      "metadata": {
        "id": "view-in-github",
        "colab_type": "text"
      },
      "source": [
        "<a href=\"https://colab.research.google.com/github/demolakstate/Comparative_Analysis_Shallow_Deep_Learning/blob/main/VGG19_early_stopping.ipynb\" target=\"_parent\"><img src=\"https://colab.research.google.com/assets/colab-badge.svg\" alt=\"Open In Colab\"/></a>"
      ]
    },
    {
      "cell_type": "code",
      "metadata": {
        "id": "EROtr8re5vre"
      },
      "source": [
        ""
      ],
      "execution_count": null,
      "outputs": []
    },
    {
      "cell_type": "code",
      "metadata": {
        "id": "8m7hLocc7E1n"
      },
      "source": [
        "!unzip all_dataset_2.zip"
      ],
      "execution_count": null,
      "outputs": []
    },
    {
      "cell_type": "code",
      "metadata": {
        "id": "L9BZVgQn7E5s"
      },
      "source": [
        ""
      ],
      "execution_count": null,
      "outputs": []
    },
    {
      "cell_type": "code",
      "metadata": {
        "id": "MD-f0i4x5yyf"
      },
      "source": [
        "#imports\n",
        "\n",
        "import tensorflow as tf\n",
        "\n",
        "from tensorflow.keras.applications.vgg19 import VGG19,preprocess_input\n",
        "from tensorflow.keras.layers import Input,GlobalMaxPooling2D,Dense\n",
        "from tensorflow.keras.models import Model\n",
        "from tensorflow.keras.preprocessing.image import img_to_array,load_img\n",
        "\n",
        "import numpy as np\n",
        "from cv2 import resize\n",
        "from os import path, listdir"
      ],
      "execution_count": null,
      "outputs": []
    },
    {
      "cell_type": "code",
      "metadata": {
        "id": "VXJzFL-05y2p"
      },
      "source": [
        ""
      ],
      "execution_count": null,
      "outputs": []
    },
    {
      "cell_type": "code",
      "metadata": {
        "id": "rmUmRwnd8msY"
      },
      "source": [
        "n_classes = 2"
      ],
      "execution_count": null,
      "outputs": []
    },
    {
      "cell_type": "code",
      "metadata": {
        "id": "dXpQ7L8u5y6L"
      },
      "source": [
        "#set up MobileNet GlobalMaxPooling and unsepcified input resolution\n",
        "\n",
        "inputs = Input(shape=(None,None,3))\n",
        "#net = VGG19(include_top=False, alpha=0.35, weights='imagenet', input_tensor=inputs, classes=n_classes)\n",
        "\n",
        "net = VGG19(include_top=False, weights='imagenet', input_tensor=inputs, classes=n_classes)\n",
        "net = GlobalMaxPooling2D()(net.output)\n",
        "outputs = Dense(n_classes,activation='softmax')(net)\n",
        "\n",
        "model = Model(inputs=inputs,outputs=outputs)\n",
        "model.compile(optimizer='Adam', loss='sparse_categorical_crossentropy',metrics=['sparse_categorical_accuracy'])\n"
      ],
      "execution_count": null,
      "outputs": []
    },
    {
      "cell_type": "code",
      "metadata": {
        "id": "cC9HU2955y-P"
      },
      "source": [
        ""
      ],
      "execution_count": null,
      "outputs": []
    },
    {
      "cell_type": "code",
      "metadata": {
        "id": "UNqo4aqg5zB8"
      },
      "source": [
        "#data generator class; yields batches of data for training/testing\n",
        "class ImageGenerator():\n",
        "\n",
        "    def __init__(self, directory, batch_size=16, shuffle=False, max_dimension=None):        \n",
        "        \n",
        "        self.directories = directory\n",
        "        self.batch_size = batch_size\n",
        "        self.shuffle = shuffle\n",
        "        self.max_dimension = max_dimension\n",
        "        \n",
        "        self.image_paths = []\n",
        "        self.class_labels = []\n",
        "        \n",
        "        #create list of image file paths and class target labels\n",
        "        for class_label, class_dir in enumerate(listdir(directory)):\n",
        "            self.image_paths += [path.join(directory,class_dir,f) for f in listdir(path.join(directory,class_dir))]\n",
        "            self.class_labels += [class_label for _ in listdir(path.join(directory,class_dir))]\n",
        "\n",
        "        self.image_paths = np.array(self.image_paths)\n",
        "        self.class_labels = np.array(self.class_labels)\n",
        "\n",
        "        #index array for shuffling data\n",
        "        self.idx = np.arange(len(self.image_paths))\n",
        "        \n",
        "    \n",
        "    def __len__(self):\n",
        "        \n",
        "        #number of batches in an epoch\n",
        "        return int(np.ceil(len(self.image_paths)/float(self.batch_size)))\n",
        "    \n",
        "    \n",
        "    def _load_image(self,img_path):\n",
        "        \n",
        "        #load image from path and convert to array\n",
        "        img = load_img(img_path, color_mode='rgb', interpolation='nearest')\n",
        "        img = img_to_array(img)\n",
        "        \n",
        "        #downsample image if above allowed size if specified\n",
        "        max_dim = max(img.shape) \n",
        "        if self.max_dimension:\n",
        "            if max_dim > self.max_dimension:\n",
        "                new_dim = tuple(d*self.max_dimension//max_dim for d in img.shape[1::-1])\n",
        "                img = resize(img, new_dim)\n",
        "            \n",
        "        #scale image values\n",
        "        img = preprocess_input(img)\n",
        "\n",
        "        return img\n",
        "    \n",
        "    \n",
        "    def _pad_images(self,img,shape):\n",
        "        #pad images to match largest image in batch\n",
        "        img = np.pad(img,(*[((shape[i]-img.shape[i])//2,\n",
        "                    ((shape[i]-img.shape[i])//2) + ((shape[i]-img.shape[i])%2)) for i in range(2)],\n",
        "                          (0,0)),mode='constant',constant_values=0.)\n",
        "        \n",
        "        return img\n",
        "\n",
        "\n",
        "    def __call__(self):\n",
        "        #shuffle index\n",
        "        if self.shuffle:\n",
        "            np.random.shuffle(self.idx)\n",
        "        \n",
        "        #generate batches\n",
        "        for batch in range(len(self)):\n",
        "\n",
        "            batch_image_paths = self.image_paths[self.idx[batch*self.batch_size:(batch+1)*self.batch_size]]\n",
        "            batch_class_labels = self.class_labels[self.idx[batch*self.batch_size:(batch+1)*self.batch_size]]\n",
        "\n",
        "            batch_images = [self._load_image(image_path) for image_path in batch_image_paths]\n",
        "\n",
        "            max_resolution = tuple(max([img.shape[i] for img in batch_images]) for i in range(2))\n",
        "            batch_images = np.array([self._pad_images(image,max_resolution) for image in batch_images])\n",
        "\n",
        "            yield batch_images, batch_class_labels"
      ],
      "execution_count": null,
      "outputs": []
    },
    {
      "cell_type": "code",
      "metadata": {
        "id": "6pUQY993550c"
      },
      "source": [
        ""
      ],
      "execution_count": null,
      "outputs": []
    },
    {
      "cell_type": "code",
      "metadata": {
        "id": "ZrqNmaKZNysQ"
      },
      "source": [
        ""
      ],
      "execution_count": null,
      "outputs": []
    },
    {
      "cell_type": "code",
      "metadata": {
        "id": "1TT47dDMNywx"
      },
      "source": [
        ""
      ],
      "execution_count": null,
      "outputs": []
    },
    {
      "cell_type": "code",
      "metadata": {
        "id": "4lsQQYlcIC-y"
      },
      "source": [
        "#model.load_weights('insulators-v32.h5')"
      ],
      "execution_count": null,
      "outputs": []
    },
    {
      "cell_type": "code",
      "metadata": {
        "id": "sEv2vlVkNy1g"
      },
      "source": [
        "#callback = tf.keras.callbacks.EarlyStopping(monitor='val_loss', patience=3)"
      ],
      "execution_count": null,
      "outputs": []
    },
    {
      "cell_type": "code",
      "metadata": {
        "id": "DduOJz3LT0Io"
      },
      "source": [
        "callback = tf.keras.callbacks.EarlyStopping(monitor='val_loss', patience=3, restore_best_weights=True)"
      ],
      "execution_count": null,
      "outputs": []
    },
    {
      "cell_type": "code",
      "metadata": {
        "id": "Uozei8oIT0Ot"
      },
      "source": [
        ""
      ],
      "execution_count": null,
      "outputs": []
    },
    {
      "cell_type": "code",
      "metadata": {
        "id": "dNXd0bCC5541",
        "colab": {
          "base_uri": "https://localhost:8080/"
        },
        "outputId": "b6ba610e-f400-4630-f7f7-750e902e2b06"
      },
      "source": [
        "#initialize our generators; specifying data directories, batch size, and dimension threshold\n",
        "\n",
        "train_image_directory = 'all_dataset_2/train'\n",
        "test_image_directory = 'all_dataset_2/validation'\n",
        "\n",
        "n_classes = 10\n",
        "batch_size = 16\n",
        "max_dimension = 512\n",
        "\n",
        "#create generators for training and generating\n",
        "\n",
        "train_generator = ImageGenerator(train_image_directory, batch_size=batch_size, shuffle=True, max_dimension=max_dimension)\n",
        "test_generator = ImageGenerator(test_image_directory, batch_size=batch_size, max_dimension=max_dimension)\n",
        "\n",
        "#convert generators into tf.data.Dataset objects for optimization with keras model fit method\n",
        "\n",
        "train_dataset = tf.data.Dataset.from_generator(train_generator,\n",
        "     (tf.float32, tf.int32),\n",
        "    (tf.TensorShape([None,None,None,3]), tf.TensorShape([None])))\n",
        "\n",
        "test_dataset = tf.data.Dataset.from_generator(test_generator,\n",
        "     (tf.float32, tf.int32),\n",
        "    (tf.TensorShape([None,None,None,3]), tf.TensorShape([None])))\n",
        "\n",
        "\n",
        "#train and evaluate model\n",
        "#history = model.fit(train_dataset,validation_data=test_dataset,epochs=10,verbose=1,workers=2,max_queue_size=20)\n",
        "history = model.fit(train_dataset,validation_data=test_dataset,epochs=100,verbose=1,workers=2,max_queue_size=20, callbacks=[callback])"
      ],
      "execution_count": null,
      "outputs": [
        {
          "output_type": "stream",
          "text": [
            "Epoch 1/100\n",
            "213/213 [==============================] - 783s 4s/step - loss: 5.1871 - sparse_categorical_accuracy: 0.6543 - val_loss: 0.6379 - val_sparse_categorical_accuracy: 0.6722\n",
            "Epoch 2/100\n",
            "213/213 [==============================] - 577s 3s/step - loss: 0.6388 - sparse_categorical_accuracy: 0.6596 - val_loss: 0.6319 - val_sparse_categorical_accuracy: 0.6663\n",
            "Epoch 3/100\n",
            "213/213 [==============================] - 505s 2s/step - loss: 0.6349 - sparse_categorical_accuracy: 0.6640 - val_loss: 0.6387 - val_sparse_categorical_accuracy: 0.6616\n",
            "Epoch 4/100\n",
            "213/213 [==============================] - 483s 2s/step - loss: 0.6336 - sparse_categorical_accuracy: 0.6634 - val_loss: 0.6397 - val_sparse_categorical_accuracy: 0.6663\n",
            "Epoch 5/100\n",
            "213/213 [==============================] - 407s 2s/step - loss: 0.6361 - sparse_categorical_accuracy: 0.6655 - val_loss: 0.6440 - val_sparse_categorical_accuracy: 0.6663\n"
          ],
          "name": "stdout"
        }
      ]
    },
    {
      "cell_type": "code",
      "metadata": {
        "id": "5PX64mG6558a"
      },
      "source": [
        ""
      ],
      "execution_count": null,
      "outputs": []
    },
    {
      "cell_type": "code",
      "metadata": {
        "id": "mPWWNamSIC6D"
      },
      "source": [
        "# Save the entire model to a HDF5 file\n",
        "model.save('VGG19_early_stopping.h5')"
      ],
      "execution_count": null,
      "outputs": []
    },
    {
      "cell_type": "markdown",
      "metadata": {
        "id": "onPSA7edIZzE"
      },
      "source": [
        "Visualize"
      ]
    },
    {
      "cell_type": "code",
      "metadata": {
        "id": "8y43g1SZLET-"
      },
      "source": [
        ""
      ],
      "execution_count": null,
      "outputs": []
    },
    {
      "cell_type": "code",
      "metadata": {
        "id": "e2BYqVLXLEYD"
      },
      "source": [
        "import matplotlib.pyplot as plt"
      ],
      "execution_count": null,
      "outputs": []
    },
    {
      "cell_type": "code",
      "metadata": {
        "id": "WavzSdZvIYZW",
        "colab": {
          "base_uri": "https://localhost:8080/",
          "height": 492
        },
        "outputId": "3aac0853-f8df-425a-b437-e606807d37b1"
      },
      "source": [
        "acc = history.history['sparse_categorical_accuracy']\n",
        "val_acc = history.history['val_sparse_categorical_accuracy']\n",
        "\n",
        "loss = history.history['loss']\n",
        "val_loss = history.history['val_loss']\n",
        "\n",
        "epochs_range = range(12)\n",
        "\n",
        "plt.figure(figsize=(25, 8))\n",
        "plt.subplot(1, 2, 1)\n",
        "\n",
        "\n",
        "#plt.plot(epochs_range, acc, label='Training Accuracy')\n",
        "#plt.plot(epochs_range, val_acc, label='Validation Accuracy')\n",
        "\n",
        "plt.plot(acc, label='Training Accuracy')\n",
        "plt.plot(val_acc, label='Validation Accuracy')\n",
        "\n",
        "\n",
        "plt.legend(loc='lower right')\n",
        "plt.title('Training and Validation Accuracy')\n",
        "\n",
        "plt.subplot(1, 2, 2)\n",
        "#plt.plot(epochs_range, loss, label='Training Loss')\n",
        "#plt.plot(epochs_range, val_loss, label='Validation Loss')\n",
        "\n",
        "\n",
        "plt.plot(loss, label='Training Loss')\n",
        "plt.plot(val_loss, label='Validation Loss')\n",
        "\n",
        "plt.legend(loc='upper right')\n",
        "plt.title('Training and Validation Loss')\n",
        "plt.show()"
      ],
      "execution_count": null,
      "outputs": [
        {
          "output_type": "display_data",
          "data": {
            "image/png": "[encoded data removed]",
            "text/plain": [
              "<Figure size 1800x576 with 2 Axes>"
            ]
          },
          "metadata": {
            "tags": [],
            "needs_background": "light"
          }
        }
      ]
    },
    {
      "cell_type": "code",
      "metadata": {
        "id": "YhMr0lP3IYdw"
      },
      "source": [
        ""
      ],
      "execution_count": null,
      "outputs": []
    },
    {
      "cell_type": "code",
      "metadata": {
        "id": "itABmUbTIYiC"
      },
      "source": [
        ""
      ],
      "execution_count": null,
      "outputs": []
    },
    {
      "cell_type": "markdown",
      "metadata": {
        "id": "bmMbjdyaKCm8"
      },
      "source": [
        "Evaluation"
      ]
    },
    {
      "cell_type": "code",
      "metadata": {
        "id": "KInf04UIKCDf"
      },
      "source": [
        ""
      ],
      "execution_count": null,
      "outputs": []
    },
    {
      "cell_type": "code",
      "metadata": {
        "id": "FjIWGE4OKZG8",
        "colab": {
          "base_uri": "https://localhost:8080/"
        },
        "outputId": "0a90ce53-159d-42f8-b205-76ca028a74f5"
      },
      "source": [
        "test_loss, test_acc = model.evaluate_generator(test_dataset, verbose=0)\n",
        "\n",
        "#test_loss, test_acc = model.evaluate_generator(test_data_gen, verbose=0)\n",
        "\n",
        "print('\\nTest accuracy:', test_acc)\n",
        "\n",
        "\n",
        "\n",
        "print('\\nTest accuracy:', test_acc)\n",
        "\n",
        "print('\\nTest loss:', test_loss)\n",
        "\n",
        "\n",
        "\n",
        "\n",
        "\n",
        "\n",
        "\n",
        "\n",
        "\n",
        "\n",
        "\n"
      ],
      "execution_count": null,
      "outputs": [
        {
          "output_type": "stream",
          "text": [
            "WARNING:tensorflow:From <ipython-input-22-fa60b5366d19>:1: Model.evaluate_generator (from tensorflow.python.keras.engine.training) is deprecated and will be removed in a future version.\n",
            "Instructions for updating:\n",
            "Please use Model.evaluate, which supports generators.\n",
            "\n",
            "Test accuracy: 0.6662749648094177\n",
            "\n",
            "Test accuracy: 0.6662749648094177\n",
            "\n",
            "Test loss: 0.6318591833114624\n"
          ],
          "name": "stdout"
        }
      ]
    },
    {
      "cell_type": "code",
      "metadata": {
        "id": "VGdfCkpOKp0w"
      },
      "source": [
        ""
      ],
      "execution_count": null,
      "outputs": []
    },
    {
      "cell_type": "code",
      "metadata": {
        "id": "QGc5jniQKp5i",
        "colab": {
          "base_uri": "https://localhost:8080/"
        },
        "outputId": "e1faf137-e926-442d-8bea-370f5a5faddd"
      },
      "source": [
        "## Make predictions on test data ##\n",
        "\n",
        "### Let's make predictions on some images ###\n",
        "\n",
        "test_generator.class_labels\n",
        "\n",
        "predictions = model.predict_generator(test_dataset)\n",
        "\n",
        "true_labels = test_generator.class_labels\n",
        "\n",
        "predictions[0]\n",
        "\n",
        "np.argmax(predictions[0])\n",
        "\n",
        "test_generator.class_labels[0]\n",
        "\n",
        "predictions[-1]\n",
        "\n",
        "np.argmax(predictions[-1])\n",
        "\n",
        "test_generator.class_labels[-1]\n",
        "\n",
        "\n",
        "\n",
        "#test_dataset.classes"
      ],
      "execution_count": null,
      "outputs": [
        {
          "output_type": "stream",
          "text": [
            "WARNING:tensorflow:From <ipython-input-23-bf11b649030b>:7: Model.predict_generator (from tensorflow.python.keras.engine.training) is deprecated and will be removed in a future version.\n",
            "Instructions for updating:\n",
            "Please use Model.predict, which supports generators.\n"
          ],
          "name": "stdout"
        },
        {
          "output_type": "execute_result",
          "data": {
            "text/plain": [
              "1"
            ]
          },
          "metadata": {
            "tags": []
          },
          "execution_count": 23
        }
      ]
    },
    {
      "cell_type": "code",
      "metadata": {
        "id": "zotUK5EMKZK5",
        "colab": {
          "base_uri": "https://localhost:8080/"
        },
        "outputId": "61b92556-1d0c-475a-e1c5-617bb473f284"
      },
      "source": [
        "type(test_dataset)\n"
      ],
      "execution_count": null,
      "outputs": [
        {
          "output_type": "execute_result",
          "data": {
            "text/plain": [
              "tensorflow.python.data.ops.dataset_ops.FlatMapDataset"
            ]
          },
          "metadata": {
            "tags": []
          },
          "execution_count": 24
        }
      ]
    },
    {
      "cell_type": "code",
      "metadata": {
        "id": "83SaEY0ybOeK"
      },
      "source": [
        "#test_generator.image_paths"
      ],
      "execution_count": null,
      "outputs": []
    },
    {
      "cell_type": "code",
      "metadata": {
        "id": "IxqmnEMybOir",
        "colab": {
          "base_uri": "https://localhost:8080/"
        },
        "outputId": "0b72237b-0213-4e2b-e3c0-b82729f252ad"
      },
      "source": [
        "test_generator.class_labels"
      ],
      "execution_count": null,
      "outputs": [
        {
          "output_type": "execute_result",
          "data": {
            "text/plain": [
              "array([0, 0, 0, 0, 0, 0, 0, 0, 0, 0, 0, 0, 0, 0, 0, 0, 0, 0, 0, 0, 0, 0,\n",
              "       0, 0, 0, 0, 0, 0, 0, 0, 0, 0, 0, 0, 0, 0, 0, 0, 0, 0, 0, 0, 0, 0,\n",
              "       0, 0, 0, 0, 0, 0, 0, 0, 0, 0, 0, 0, 0, 0, 0, 0, 0, 0, 0, 0, 0, 0,\n",
              "       0, 0, 0, 0, 0, 0, 0, 0, 0, 0, 0, 0, 0, 0, 0, 0, 0, 0, 0, 0, 0, 0,\n",
              "       0, 0, 0, 0, 0, 0, 0, 0, 0, 0, 0, 0, 0, 0, 0, 0, 0, 0, 0, 0, 0, 0,\n",
              "       0, 0, 0, 0, 0, 0, 0, 0, 0, 0, 0, 0, 0, 0, 0, 0, 0, 0, 0, 0, 0, 0,\n",
              "       0, 0, 0, 0, 0, 0, 0, 0, 0, 0, 0, 0, 0, 0, 0, 0, 0, 0, 0, 0, 0, 0,\n",
              "       0, 0, 0, 0, 0, 0, 0, 0, 0, 0, 0, 0, 0, 0, 0, 0, 0, 0, 0, 0, 0, 0,\n",
              "       0, 0, 0, 0, 0, 0, 0, 0, 0, 0, 0, 0, 0, 0, 0, 0, 0, 0, 0, 0, 0, 0,\n",
              "       0, 0, 0, 0, 0, 0, 0, 0, 0, 0, 0, 0, 0, 0, 0, 0, 0, 0, 0, 0, 0, 0,\n",
              "       0, 0, 0, 0, 0, 0, 0, 0, 0, 0, 0, 0, 0, 0, 0, 0, 0, 0, 0, 0, 0, 0,\n",
              "       0, 0, 0, 0, 0, 0, 0, 0, 0, 0, 0, 0, 0, 0, 0, 0, 0, 0, 0, 0, 0, 0,\n",
              "       0, 0, 0, 0, 0, 0, 0, 0, 0, 0, 0, 0, 0, 0, 0, 0, 0, 0, 0, 0, 0, 0,\n",
              "       0, 0, 0, 0, 0, 0, 0, 0, 0, 0, 0, 0, 0, 0, 0, 0, 0, 0, 0, 0, 0, 0,\n",
              "       0, 0, 0, 0, 0, 0, 0, 0, 0, 0, 0, 0, 0, 0, 0, 0, 0, 0, 0, 0, 0, 0,\n",
              "       0, 0, 0, 0, 0, 0, 0, 0, 0, 0, 0, 0, 0, 0, 0, 0, 0, 0, 0, 0, 0, 0,\n",
              "       0, 0, 0, 0, 0, 0, 0, 0, 0, 0, 0, 0, 0, 0, 0, 0, 0, 0, 0, 0, 0, 0,\n",
              "       0, 0, 0, 0, 0, 0, 0, 0, 0, 0, 0, 0, 0, 0, 0, 0, 0, 0, 0, 0, 0, 0,\n",
              "       0, 0, 0, 0, 0, 0, 0, 0, 0, 0, 0, 0, 0, 0, 0, 0, 0, 0, 0, 0, 0, 0,\n",
              "       0, 0, 0, 0, 0, 0, 0, 0, 0, 0, 0, 0, 0, 0, 0, 0, 0, 0, 0, 0, 0, 0,\n",
              "       0, 0, 0, 0, 0, 0, 0, 0, 0, 0, 0, 0, 0, 0, 0, 0, 0, 0, 0, 0, 0, 0,\n",
              "       0, 0, 0, 0, 0, 0, 0, 0, 0, 0, 0, 0, 0, 0, 0, 0, 0, 0, 0, 0, 0, 0,\n",
              "       0, 0, 0, 0, 0, 0, 0, 0, 0, 0, 0, 0, 0, 0, 0, 0, 0, 0, 0, 0, 0, 0,\n",
              "       0, 0, 0, 0, 0, 0, 0, 0, 0, 0, 0, 0, 0, 0, 0, 0, 0, 0, 0, 0, 0, 0,\n",
              "       0, 0, 0, 0, 0, 0, 0, 0, 0, 0, 0, 0, 0, 0, 0, 0, 0, 0, 0, 0, 0, 0,\n",
              "       0, 0, 0, 0, 0, 0, 0, 0, 0, 0, 0, 0, 0, 0, 0, 0, 0, 1, 1, 1, 1, 1,\n",
              "       1, 1, 1, 1, 1, 1, 1, 1, 1, 1, 1, 1, 1, 1, 1, 1, 1, 1, 1, 1, 1, 1,\n",
              "       1, 1, 1, 1, 1, 1, 1, 1, 1, 1, 1, 1, 1, 1, 1, 1, 1, 1, 1, 1, 1, 1,\n",
              "       1, 1, 1, 1, 1, 1, 1, 1, 1, 1, 1, 1, 1, 1, 1, 1, 1, 1, 1, 1, 1, 1,\n",
              "       1, 1, 1, 1, 1, 1, 1, 1, 1, 1, 1, 1, 1, 1, 1, 1, 1, 1, 1, 1, 1, 1,\n",
              "       1, 1, 1, 1, 1, 1, 1, 1, 1, 1, 1, 1, 1, 1, 1, 1, 1, 1, 1, 1, 1, 1,\n",
              "       1, 1, 1, 1, 1, 1, 1, 1, 1, 1, 1, 1, 1, 1, 1, 1, 1, 1, 1, 1, 1, 1,\n",
              "       1, 1, 1, 1, 1, 1, 1, 1, 1, 1, 1, 1, 1, 1, 1, 1, 1, 1, 1, 1, 1, 1,\n",
              "       1, 1, 1, 1, 1, 1, 1, 1, 1, 1, 1, 1, 1, 1, 1, 1, 1, 1, 1, 1, 1, 1,\n",
              "       1, 1, 1, 1, 1, 1, 1, 1, 1, 1, 1, 1, 1, 1, 1, 1, 1, 1, 1, 1, 1, 1,\n",
              "       1, 1, 1, 1, 1, 1, 1, 1, 1, 1, 1, 1, 1, 1, 1, 1, 1, 1, 1, 1, 1, 1,\n",
              "       1, 1, 1, 1, 1, 1, 1, 1, 1, 1, 1, 1, 1, 1, 1, 1, 1, 1, 1, 1, 1, 1,\n",
              "       1, 1, 1, 1, 1, 1, 1, 1, 1, 1, 1, 1, 1, 1, 1, 1, 1, 1, 1, 1, 1, 1,\n",
              "       1, 1, 1, 1, 1, 1, 1, 1, 1, 1, 1, 1, 1, 1, 1])"
            ]
          },
          "metadata": {
            "tags": []
          },
          "execution_count": 26
        }
      ]
    },
    {
      "cell_type": "code",
      "metadata": {
        "id": "xTTi4cZqbOmU"
      },
      "source": [
        ""
      ],
      "execution_count": null,
      "outputs": []
    },
    {
      "cell_type": "code",
      "metadata": {
        "id": "vEXQ7HpWKZOd"
      },
      "source": [
        ""
      ],
      "execution_count": null,
      "outputs": []
    },
    {
      "cell_type": "code",
      "metadata": {
        "id": "LBM1ISA7KZST",
        "colab": {
          "base_uri": "https://localhost:8080/",
          "height": 309
        },
        "outputId": "ccac6c0e-a07f-4ab4-c952-806959092fd8"
      },
      "source": [
        "## Confusion Matrix ##\n",
        "\n",
        "from sklearn.metrics import confusion_matrix\n",
        "import matplotlib.pyplot as plt\n",
        "import numpy as np\n",
        "\n",
        "\n",
        "\n",
        "y_true = true_labels\n",
        "y_pred = np.array([np.argmax(x) for x in predictions])\n",
        "\n",
        "y_pred\n",
        "\n",
        "\n",
        "\n",
        "\n",
        "\n",
        "cm = confusion_matrix(y_true, y_pred)\n",
        "\n",
        "print(cm)\n",
        "\n",
        "\n",
        "\n",
        "plt.matshow(cm, cmap=plt.cm.gray)\n",
        "plt.show()"
      ],
      "execution_count": null,
      "outputs": [
        {
          "output_type": "stream",
          "text": [
            "[[567   0]\n",
            " [284   0]]\n"
          ],
          "name": "stdout"
        },
        {
          "output_type": "display_data",
          "data": {
            "image/png": "[encoded data removed]",
            "text/plain": [
              "<Figure size 288x288 with 1 Axes>"
            ]
          },
          "metadata": {
            "tags": [],
            "needs_background": "light"
          }
        }
      ]
    },
    {
      "cell_type": "code",
      "metadata": {
        "id": "iSJiAOFGKZWt"
      },
      "source": [
        ""
      ],
      "execution_count": null,
      "outputs": []
    },
    {
      "cell_type": "code",
      "metadata": {
        "id": "LypLjapdKZax"
      },
      "source": [
        " from sklearn.metrics import classification_report"
      ],
      "execution_count": null,
      "outputs": []
    },
    {
      "cell_type": "code",
      "metadata": {
        "id": "j8DkrB_5KZe7",
        "colab": {
          "base_uri": "https://localhost:8080/"
        },
        "outputId": "05722bdd-c756-417b-b41e-2003023b8efe"
      },
      "source": [
        "target_names = ['undamaged', 'damaged']\n",
        "print(classification_report(y_true, y_pred, target_names=target_names))"
      ],
      "execution_count": null,
      "outputs": [
        {
          "output_type": "stream",
          "text": [
            "              precision    recall  f1-score   support\n",
            "\n",
            "   undamaged       0.67      1.00      0.80       567\n",
            "     damaged       0.00      0.00      0.00       284\n",
            "\n",
            "    accuracy                           0.67       851\n",
            "   macro avg       0.33      0.50      0.40       851\n",
            "weighted avg       0.44      0.67      0.53       851\n",
            "\n"
          ],
          "name": "stdout"
        },
        {
          "output_type": "stream",
          "text": [
            "/usr/local/lib/python3.6/dist-packages/sklearn/metrics/_classification.py:1272: UndefinedMetricWarning: Precision and F-score are ill-defined and being set to 0.0 in labels with no predicted samples. Use `zero_division` parameter to control this behavior.\n",
            "  _warn_prf(average, modifier, msg_start, len(result))\n"
          ],
          "name": "stderr"
        }
      ]
    },
    {
      "cell_type": "code",
      "metadata": {
        "id": "vAd5rrSyJcEp"
      },
      "source": [
        ""
      ],
      "execution_count": null,
      "outputs": []
    },
    {
      "cell_type": "code",
      "metadata": {
        "id": "V4nER7DGJcIk"
      },
      "source": [
        ""
      ],
      "execution_count": null,
      "outputs": []
    },
    {
      "cell_type": "code",
      "metadata": {
        "id": "JoaNAn_LfBeo"
      },
      "source": [
        ""
      ],
      "execution_count": null,
      "outputs": []
    },
    {
      "cell_type": "code",
      "metadata": {
        "id": "PnOXi7kPfBjF"
      },
      "source": [
        "def plot_image(i, predictions_array, true_label, img):\n",
        "  true_label, img = true_label[i], img\n",
        "  plt.grid(False)\n",
        "  plt.xticks([])\n",
        "  plt.yticks([])\n",
        "\n",
        "  plt.imshow(img, cmap=plt.cm.binary)\n",
        "\n",
        "  predicted_label = np.argmax(predictions_array)\n",
        "  if predicted_label == true_label:\n",
        "    color = 'blue'\n",
        "  else:\n",
        "    color = 'red'\n",
        "\n",
        "  plt.xlabel(\"{} {:2.0f}% ({})\".format(class_names[predicted_label],\n",
        "                                100*np.max(predictions_array),\n",
        "                                class_names[true_label]),\n",
        "                                color=color)\n",
        "\n",
        "def plot_value_array(i, predictions_array, true_label):\n",
        "  true_label = true_label[i]\n",
        "  plt.grid(False)\n",
        "  plt.xticks(range(10))\n",
        "  plt.yticks([])\n",
        "  thisplot = plt.bar(range(10), predictions_array, color=\"#777777\")\n",
        "  plt.ylim([0, 1])\n",
        "  predicted_label = np.argmax(predictions_array)\n",
        "\n",
        "  thisplot[predicted_label].set_color('red')\n",
        "  thisplot[true_label].set_color('blue')"
      ],
      "execution_count": null,
      "outputs": []
    },
    {
      "cell_type": "code",
      "metadata": {
        "id": "PucN7S9XfBq9"
      },
      "source": [
        ""
      ],
      "execution_count": null,
      "outputs": []
    },
    {
      "cell_type": "code",
      "metadata": {
        "id": "1zO7nIgKfBue"
      },
      "source": [
        "i = 0\n",
        "plt.figure(figsize=(6,3))\n",
        "plt.subplot(1,2,1)\n",
        "plot_image(i, y_pred[i], y_true, np.array(test_dataset.take(1)))\n",
        "plt.subplot(1,2,2)\n",
        "plot_value_array(i, y_pred[i],  y_true)\n",
        "plt.show()"
      ],
      "execution_count": null,
      "outputs": []
    },
    {
      "cell_type": "code",
      "metadata": {
        "id": "8CD-rZE4hZQ3"
      },
      "source": [
        ""
      ],
      "execution_count": null,
      "outputs": []
    },
    {
      "cell_type": "code",
      "metadata": {
        "id": "ytodg-ZrhZV4"
      },
      "source": [
        "test_dataset.take"
      ],
      "execution_count": null,
      "outputs": []
    },
    {
      "cell_type": "code",
      "metadata": {
        "id": "orG13RsdfBm-"
      },
      "source": [
        "test_generator.idx[-1]"
      ],
      "execution_count": null,
      "outputs": []
    },
    {
      "cell_type": "code",
      "metadata": {
        "id": "RhkisJQWh7PM"
      },
      "source": [
        "import numpy as np"
      ],
      "execution_count": null,
      "outputs": []
    },
    {
      "cell_type": "code",
      "metadata": {
        "id": "ybNA9DTviDZT"
      },
      "source": [
        ""
      ],
      "execution_count": null,
      "outputs": []
    },
    {
      "cell_type": "code",
      "metadata": {
        "id": "DBXKw4FyiDd_"
      },
      "source": [
        "data_list = []\n",
        "batch_index = 0"
      ],
      "execution_count": null,
      "outputs": []
    },
    {
      "cell_type": "code",
      "metadata": {
        "id": "QWvf_IwEJcMI"
      },
      "source": [
        "data_list = []\n",
        "batch_index = 0\n",
        "idx = 0 \n",
        "\n",
        "while idx <= test_generator.idx:\n",
        "    data = test_generator.next()\n",
        "    data_list.append(data[0])\n",
        "    #batch_index = batch_index + 1\n",
        "    idx = idx + 1\n",
        "\n",
        "# now, data_array is the numeric data of whole images\n",
        "data_array = np.asarray(data_list)"
      ],
      "execution_count": null,
      "outputs": []
    },
    {
      "cell_type": "code",
      "metadata": {
        "id": "9mPODO-nIDCi"
      },
      "source": [
        ""
      ],
      "execution_count": null,
      "outputs": []
    },
    {
      "cell_type": "code",
      "metadata": {
        "id": "Cq7D6-qiIDGF"
      },
      "source": [
        ""
      ],
      "execution_count": null,
      "outputs": []
    },
    {
      "cell_type": "code",
      "metadata": {
        "id": "eAAZ_FVb56AD"
      },
      "source": [
        "#train and evaluate model\n",
        "#model.fit(train_dataset,epochs=10,verbose=1,workers=2,max_queue_size=20)"
      ],
      "execution_count": null,
      "outputs": []
    },
    {
      "cell_type": "code",
      "metadata": {
        "id": "7bp8g03656ER"
      },
      "source": [
        ""
      ],
      "execution_count": null,
      "outputs": []
    },
    {
      "cell_type": "markdown",
      "metadata": {
        "id": "sgyukJo8mxWJ"
      },
      "source": [
        "## ROC-AUC ##"
      ]
    },
    {
      "cell_type": "code",
      "metadata": {
        "id": "WJpR6bok69di"
      },
      "source": [
        "from sklearn.metrics import auc, roc_curve, roc_auc_score\n",
        "\n",
        "fpr, tpr, _ = roc_curve(y_true, y_pred)\n",
        "roc_auc = auc(fpr, tpr)\n",
        "\n",
        "print(roc_auc)"
      ],
      "execution_count": null,
      "outputs": []
    },
    {
      "cell_type": "code",
      "metadata": {
        "id": "AtKXqZ7J69iF"
      },
      "source": [
        ""
      ],
      "execution_count": null,
      "outputs": []
    },
    {
      "cell_type": "code",
      "metadata": {
        "id": "vWEZrN7b69mg"
      },
      "source": [
        ""
      ],
      "execution_count": null,
      "outputs": []
    },
    {
      "cell_type": "code",
      "metadata": {
        "id": "GYXdiPfn69rx"
      },
      "source": [
        ""
      ],
      "execution_count": null,
      "outputs": []
    },
    {
      "cell_type": "code",
      "metadata": {
        "id": "arxG4EPE5zFO"
      },
      "source": [
        ""
      ],
      "execution_count": null,
      "outputs": []
    }
  ]
}